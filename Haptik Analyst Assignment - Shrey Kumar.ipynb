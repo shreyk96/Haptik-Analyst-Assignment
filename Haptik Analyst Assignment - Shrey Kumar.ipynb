{
 "cells": [
  {
   "cell_type": "markdown",
   "metadata": {},
   "source": [
    "#### Importing Requisite Libraries"
   ]
  },
  {
   "cell_type": "code",
   "execution_count": 23,
   "metadata": {},
   "outputs": [],
   "source": [
    "import seaborn as sns\n",
    "import numpy as np\n",
    "import pandas as pd\n",
    "import matplotlib as plt"
   ]
  },
  {
   "cell_type": "markdown",
   "metadata": {},
   "source": [
    "#### Loading the dataset"
   ]
  },
  {
   "cell_type": "code",
   "execution_count": 12,
   "metadata": {},
   "outputs": [],
   "source": [
    "filepath = r\"C:\\Users\\TOSHIBA\\Desktop\\haptik.xlsx\""
   ]
  },
  {
   "cell_type": "code",
   "execution_count": 13,
   "metadata": {},
   "outputs": [],
   "source": [
    "data = pd.read_excel(filepath)"
   ]
  },
  {
   "cell_type": "markdown",
   "metadata": {},
   "source": [
    "#### Displaying the first and the last 5 rows of the dataset"
   ]
  },
  {
   "cell_type": "code",
   "execution_count": 14,
   "metadata": {},
   "outputs": [
    {
     "data": {
      "text/html": [
       "<div>\n",
       "<style scoped>\n",
       "    .dataframe tbody tr th:only-of-type {\n",
       "        vertical-align: middle;\n",
       "    }\n",
       "\n",
       "    .dataframe tbody tr th {\n",
       "        vertical-align: top;\n",
       "    }\n",
       "\n",
       "    .dataframe thead th {\n",
       "        text-align: right;\n",
       "    }\n",
       "</style>\n",
       "<table border=\"1\" class=\"dataframe\">\n",
       "  <thead>\n",
       "    <tr style=\"text-align: right;\">\n",
       "      <th></th>\n",
       "      <th>Child Id</th>\n",
       "      <th>Parent Company ID</th>\n",
       "      <th>Date Range</th>\n",
       "      <th>Rev from Product A</th>\n",
       "      <th>Rev from Product B</th>\n",
       "      <th>Rev from Product C</th>\n",
       "      <th>Rev from Product D</th>\n",
       "      <th>Total Revenue</th>\n",
       "      <th>Unique Parent Company ID</th>\n",
       "    </tr>\n",
       "  </thead>\n",
       "  <tbody>\n",
       "    <tr>\n",
       "      <th>0</th>\n",
       "      <td>1</td>\n",
       "      <td>b1</td>\n",
       "      <td>2017-12-01 -&gt; 2017-12-01</td>\n",
       "      <td>0.0</td>\n",
       "      <td>0.19</td>\n",
       "      <td>0.00</td>\n",
       "      <td>0.0</td>\n",
       "      <td>0.19</td>\n",
       "      <td>b1</td>\n",
       "    </tr>\n",
       "    <tr>\n",
       "      <th>1</th>\n",
       "      <td>2</td>\n",
       "      <td>b1</td>\n",
       "      <td>2017-12-18 -&gt; 2017-12-18</td>\n",
       "      <td>0.0</td>\n",
       "      <td>0.00</td>\n",
       "      <td>0.31</td>\n",
       "      <td>0.0</td>\n",
       "      <td>0.31</td>\n",
       "      <td>b2</td>\n",
       "    </tr>\n",
       "    <tr>\n",
       "      <th>2</th>\n",
       "      <td>3</td>\n",
       "      <td>b1</td>\n",
       "      <td>2017-12-07 -&gt; 2017-12-07</td>\n",
       "      <td>0.0</td>\n",
       "      <td>0.00</td>\n",
       "      <td>0.46</td>\n",
       "      <td>0.0</td>\n",
       "      <td>0.46</td>\n",
       "      <td>b3</td>\n",
       "    </tr>\n",
       "    <tr>\n",
       "      <th>3</th>\n",
       "      <td>4</td>\n",
       "      <td>b2</td>\n",
       "      <td>2017-12-24 -&gt; 2017-12-25</td>\n",
       "      <td>0.0</td>\n",
       "      <td>0.00</td>\n",
       "      <td>1.07</td>\n",
       "      <td>0.0</td>\n",
       "      <td>1.07</td>\n",
       "      <td>b4</td>\n",
       "    </tr>\n",
       "    <tr>\n",
       "      <th>4</th>\n",
       "      <td>5</td>\n",
       "      <td>b3</td>\n",
       "      <td>2017-12-06 -&gt; 2017-12-20</td>\n",
       "      <td>0.0</td>\n",
       "      <td>0.00</td>\n",
       "      <td>1.18</td>\n",
       "      <td>0.0</td>\n",
       "      <td>1.18</td>\n",
       "      <td>b5</td>\n",
       "    </tr>\n",
       "  </tbody>\n",
       "</table>\n",
       "</div>"
      ],
      "text/plain": [
       "   Child Id Parent Company ID                Date Range  Rev from Product A  \\\n",
       "0         1                b1  2017-12-01 -> 2017-12-01                 0.0   \n",
       "1         2                b1  2017-12-18 -> 2017-12-18                 0.0   \n",
       "2         3                b1  2017-12-07 -> 2017-12-07                 0.0   \n",
       "3         4                b2  2017-12-24 -> 2017-12-25                 0.0   \n",
       "4         5                b3  2017-12-06 -> 2017-12-20                 0.0   \n",
       "\n",
       "   Rev from Product B  Rev from Product C  Rev from Product D  Total Revenue  \\\n",
       "0                0.19                0.00                 0.0           0.19   \n",
       "1                0.00                0.31                 0.0           0.31   \n",
       "2                0.00                0.46                 0.0           0.46   \n",
       "3                0.00                1.07                 0.0           1.07   \n",
       "4                0.00                1.18                 0.0           1.18   \n",
       "\n",
       "  Unique Parent Company ID  \n",
       "0                       b1  \n",
       "1                       b2  \n",
       "2                       b3  \n",
       "3                       b4  \n",
       "4                       b5  "
      ]
     },
     "execution_count": 14,
     "metadata": {},
     "output_type": "execute_result"
    }
   ],
   "source": [
    "data.head()"
   ]
  },
  {
   "cell_type": "code",
   "execution_count": 19,
   "metadata": {},
   "outputs": [
    {
     "data": {
      "text/html": [
       "<div>\n",
       "<style scoped>\n",
       "    .dataframe tbody tr th:only-of-type {\n",
       "        vertical-align: middle;\n",
       "    }\n",
       "\n",
       "    .dataframe tbody tr th {\n",
       "        vertical-align: top;\n",
       "    }\n",
       "\n",
       "    .dataframe thead th {\n",
       "        text-align: right;\n",
       "    }\n",
       "</style>\n",
       "<table border=\"1\" class=\"dataframe\">\n",
       "  <thead>\n",
       "    <tr style=\"text-align: right;\">\n",
       "      <th></th>\n",
       "      <th>Child Id</th>\n",
       "      <th>Parent Company ID</th>\n",
       "      <th>Date Range</th>\n",
       "      <th>Rev from Product A</th>\n",
       "      <th>Rev from Product B</th>\n",
       "      <th>Rev from Product C</th>\n",
       "      <th>Rev from Product D</th>\n",
       "      <th>Total Revenue</th>\n",
       "      <th>Unique Parent Company ID</th>\n",
       "    </tr>\n",
       "  </thead>\n",
       "  <tbody>\n",
       "    <tr>\n",
       "      <th>465</th>\n",
       "      <td>466</td>\n",
       "      <td>b233</td>\n",
       "      <td>2017-12-22 -&gt; 2017-12-28</td>\n",
       "      <td>0.0</td>\n",
       "      <td>0.00</td>\n",
       "      <td>0.29</td>\n",
       "      <td>0.0</td>\n",
       "      <td>0.29</td>\n",
       "      <td>NaN</td>\n",
       "    </tr>\n",
       "    <tr>\n",
       "      <th>466</th>\n",
       "      <td>467</td>\n",
       "      <td>b234</td>\n",
       "      <td>2017-12-22 -&gt; 2017-12-22</td>\n",
       "      <td>0.0</td>\n",
       "      <td>0.00</td>\n",
       "      <td>0.28</td>\n",
       "      <td>0.0</td>\n",
       "      <td>0.28</td>\n",
       "      <td>NaN</td>\n",
       "    </tr>\n",
       "    <tr>\n",
       "      <th>467</th>\n",
       "      <td>468</td>\n",
       "      <td>b234</td>\n",
       "      <td>2017-12-19 -&gt; 2017-12-28</td>\n",
       "      <td>0.0</td>\n",
       "      <td>0.00</td>\n",
       "      <td>0.26</td>\n",
       "      <td>0.0</td>\n",
       "      <td>0.26</td>\n",
       "      <td>NaN</td>\n",
       "    </tr>\n",
       "    <tr>\n",
       "      <th>468</th>\n",
       "      <td>469</td>\n",
       "      <td>b235</td>\n",
       "      <td>2017-12-01 -&gt; 2017-12-21</td>\n",
       "      <td>0.0</td>\n",
       "      <td>249.44</td>\n",
       "      <td>10169.33</td>\n",
       "      <td>0.0</td>\n",
       "      <td>10418.77</td>\n",
       "      <td>NaN</td>\n",
       "    </tr>\n",
       "    <tr>\n",
       "      <th>469</th>\n",
       "      <td>470</td>\n",
       "      <td>b235</td>\n",
       "      <td>2017-12-28 -&gt; 2017-12-28</td>\n",
       "      <td>0.0</td>\n",
       "      <td>0.00</td>\n",
       "      <td>0.04</td>\n",
       "      <td>0.0</td>\n",
       "      <td>0.04</td>\n",
       "      <td>NaN</td>\n",
       "    </tr>\n",
       "  </tbody>\n",
       "</table>\n",
       "</div>"
      ],
      "text/plain": [
       "     Child Id Parent Company ID                Date Range  Rev from Product A  \\\n",
       "465       466              b233  2017-12-22 -> 2017-12-28                 0.0   \n",
       "466       467              b234  2017-12-22 -> 2017-12-22                 0.0   \n",
       "467       468              b234  2017-12-19 -> 2017-12-28                 0.0   \n",
       "468       469              b235  2017-12-01 -> 2017-12-21                 0.0   \n",
       "469       470              b235  2017-12-28 -> 2017-12-28                 0.0   \n",
       "\n",
       "     Rev from Product B  Rev from Product C  Rev from Product D  \\\n",
       "465                0.00                0.29                 0.0   \n",
       "466                0.00                0.28                 0.0   \n",
       "467                0.00                0.26                 0.0   \n",
       "468              249.44            10169.33                 0.0   \n",
       "469                0.00                0.04                 0.0   \n",
       "\n",
       "     Total Revenue Unique Parent Company ID  \n",
       "465           0.29                      NaN  \n",
       "466           0.28                      NaN  \n",
       "467           0.26                      NaN  \n",
       "468       10418.77                      NaN  \n",
       "469           0.04                      NaN  "
      ]
     },
     "execution_count": 19,
     "metadata": {},
     "output_type": "execute_result"
    }
   ],
   "source": [
    "data.tail()"
   ]
  },
  {
   "cell_type": "markdown",
   "metadata": {},
   "source": [
    "#### Displaying the basic information and statistics of the dataset"
   ]
  },
  {
   "cell_type": "code",
   "execution_count": 15,
   "metadata": {},
   "outputs": [
    {
     "name": "stdout",
     "output_type": "stream",
     "text": [
      "<class 'pandas.core.frame.DataFrame'>\n",
      "RangeIndex: 470 entries, 0 to 469\n",
      "Data columns (total 9 columns):\n",
      "Child Id                    470 non-null int64\n",
      "Parent Company ID           470 non-null object\n",
      "Date Range                  470 non-null object\n",
      "Rev from Product A          470 non-null float64\n",
      "Rev from Product B          470 non-null float64\n",
      "Rev from Product C          470 non-null float64\n",
      "Rev from Product D          470 non-null float64\n",
      "Total Revenue               470 non-null float64\n",
      "Unique Parent Company ID    228 non-null object\n",
      "dtypes: float64(5), int64(1), object(3)\n",
      "memory usage: 33.1+ KB\n"
     ]
    }
   ],
   "source": [
    "data.info()"
   ]
  },
  {
   "cell_type": "code",
   "execution_count": 16,
   "metadata": {},
   "outputs": [
    {
     "data": {
      "text/html": [
       "<div>\n",
       "<style scoped>\n",
       "    .dataframe tbody tr th:only-of-type {\n",
       "        vertical-align: middle;\n",
       "    }\n",
       "\n",
       "    .dataframe tbody tr th {\n",
       "        vertical-align: top;\n",
       "    }\n",
       "\n",
       "    .dataframe thead th {\n",
       "        text-align: right;\n",
       "    }\n",
       "</style>\n",
       "<table border=\"1\" class=\"dataframe\">\n",
       "  <thead>\n",
       "    <tr style=\"text-align: right;\">\n",
       "      <th></th>\n",
       "      <th>Child Id</th>\n",
       "      <th>Rev from Product A</th>\n",
       "      <th>Rev from Product B</th>\n",
       "      <th>Rev from Product C</th>\n",
       "      <th>Rev from Product D</th>\n",
       "      <th>Total Revenue</th>\n",
       "    </tr>\n",
       "  </thead>\n",
       "  <tbody>\n",
       "    <tr>\n",
       "      <th>count</th>\n",
       "      <td>470.000000</td>\n",
       "      <td>470.000000</td>\n",
       "      <td>470.000000</td>\n",
       "      <td>470.000000</td>\n",
       "      <td>470.000000</td>\n",
       "      <td>470.000000</td>\n",
       "    </tr>\n",
       "    <tr>\n",
       "      <th>mean</th>\n",
       "      <td>235.344681</td>\n",
       "      <td>33.561830</td>\n",
       "      <td>48.859745</td>\n",
       "      <td>186.069426</td>\n",
       "      <td>3.881255</td>\n",
       "      <td>272.372255</td>\n",
       "    </tr>\n",
       "    <tr>\n",
       "      <th>std</th>\n",
       "      <td>136.082332</td>\n",
       "      <td>333.090534</td>\n",
       "      <td>229.258606</td>\n",
       "      <td>649.794730</td>\n",
       "      <td>16.941190</td>\n",
       "      <td>792.760626</td>\n",
       "    </tr>\n",
       "    <tr>\n",
       "      <th>min</th>\n",
       "      <td>1.000000</td>\n",
       "      <td>0.000000</td>\n",
       "      <td>0.000000</td>\n",
       "      <td>0.000000</td>\n",
       "      <td>0.000000</td>\n",
       "      <td>0.040000</td>\n",
       "    </tr>\n",
       "    <tr>\n",
       "      <th>25%</th>\n",
       "      <td>118.250000</td>\n",
       "      <td>0.000000</td>\n",
       "      <td>0.000000</td>\n",
       "      <td>0.000000</td>\n",
       "      <td>0.000000</td>\n",
       "      <td>5.002500</td>\n",
       "    </tr>\n",
       "    <tr>\n",
       "      <th>50%</th>\n",
       "      <td>235.500000</td>\n",
       "      <td>0.000000</td>\n",
       "      <td>0.000000</td>\n",
       "      <td>25.465000</td>\n",
       "      <td>0.000000</td>\n",
       "      <td>53.785000</td>\n",
       "    </tr>\n",
       "    <tr>\n",
       "      <th>75%</th>\n",
       "      <td>352.750000</td>\n",
       "      <td>0.000000</td>\n",
       "      <td>0.000000</td>\n",
       "      <td>152.117500</td>\n",
       "      <td>0.997500</td>\n",
       "      <td>251.370000</td>\n",
       "    </tr>\n",
       "    <tr>\n",
       "      <th>max</th>\n",
       "      <td>470.000000</td>\n",
       "      <td>6208.440000</td>\n",
       "      <td>2984.000000</td>\n",
       "      <td>10169.330000</td>\n",
       "      <td>204.030000</td>\n",
       "      <td>10418.770000</td>\n",
       "    </tr>\n",
       "  </tbody>\n",
       "</table>\n",
       "</div>"
      ],
      "text/plain": [
       "         Child Id  Rev from Product A  Rev from Product B  Rev from Product C  \\\n",
       "count  470.000000          470.000000          470.000000          470.000000   \n",
       "mean   235.344681           33.561830           48.859745          186.069426   \n",
       "std    136.082332          333.090534          229.258606          649.794730   \n",
       "min      1.000000            0.000000            0.000000            0.000000   \n",
       "25%    118.250000            0.000000            0.000000            0.000000   \n",
       "50%    235.500000            0.000000            0.000000           25.465000   \n",
       "75%    352.750000            0.000000            0.000000          152.117500   \n",
       "max    470.000000         6208.440000         2984.000000        10169.330000   \n",
       "\n",
       "       Rev from Product D  Total Revenue  \n",
       "count          470.000000     470.000000  \n",
       "mean             3.881255     272.372255  \n",
       "std             16.941190     792.760626  \n",
       "min              0.000000       0.040000  \n",
       "25%              0.000000       5.002500  \n",
       "50%              0.000000      53.785000  \n",
       "75%              0.997500     251.370000  \n",
       "max            204.030000   10418.770000  "
      ]
     },
     "execution_count": 16,
     "metadata": {},
     "output_type": "execute_result"
    }
   ],
   "source": [
    "data.describe()"
   ]
  },
  {
   "cell_type": "code",
   "execution_count": 17,
   "metadata": {},
   "outputs": [
    {
     "data": {
      "text/html": [
       "<div>\n",
       "<style scoped>\n",
       "    .dataframe tbody tr th:only-of-type {\n",
       "        vertical-align: middle;\n",
       "    }\n",
       "\n",
       "    .dataframe tbody tr th {\n",
       "        vertical-align: top;\n",
       "    }\n",
       "\n",
       "    .dataframe thead th {\n",
       "        text-align: right;\n",
       "    }\n",
       "</style>\n",
       "<table border=\"1\" class=\"dataframe\">\n",
       "  <thead>\n",
       "    <tr style=\"text-align: right;\">\n",
       "      <th></th>\n",
       "      <th>Child Id</th>\n",
       "      <th>Parent Company ID</th>\n",
       "      <th>Date Range</th>\n",
       "      <th>Rev from Product A</th>\n",
       "      <th>Rev from Product B</th>\n",
       "      <th>Rev from Product C</th>\n",
       "      <th>Rev from Product D</th>\n",
       "      <th>Total Revenue</th>\n",
       "      <th>Unique Parent Company ID</th>\n",
       "    </tr>\n",
       "  </thead>\n",
       "  <tbody>\n",
       "    <tr>\n",
       "      <th>count</th>\n",
       "      <td>470.000000</td>\n",
       "      <td>470</td>\n",
       "      <td>470</td>\n",
       "      <td>470.000000</td>\n",
       "      <td>470.000000</td>\n",
       "      <td>470.000000</td>\n",
       "      <td>470.000000</td>\n",
       "      <td>470.000000</td>\n",
       "      <td>228</td>\n",
       "    </tr>\n",
       "    <tr>\n",
       "      <th>unique</th>\n",
       "      <td>NaN</td>\n",
       "      <td>227</td>\n",
       "      <td>219</td>\n",
       "      <td>NaN</td>\n",
       "      <td>NaN</td>\n",
       "      <td>NaN</td>\n",
       "      <td>NaN</td>\n",
       "      <td>NaN</td>\n",
       "      <td>228</td>\n",
       "    </tr>\n",
       "    <tr>\n",
       "      <th>top</th>\n",
       "      <td>NaN</td>\n",
       "      <td>b110</td>\n",
       "      <td>2017-12-01 -&gt; 2017-12-30</td>\n",
       "      <td>NaN</td>\n",
       "      <td>NaN</td>\n",
       "      <td>NaN</td>\n",
       "      <td>NaN</td>\n",
       "      <td>NaN</td>\n",
       "      <td>b108</td>\n",
       "    </tr>\n",
       "    <tr>\n",
       "      <th>freq</th>\n",
       "      <td>NaN</td>\n",
       "      <td>11</td>\n",
       "      <td>30</td>\n",
       "      <td>NaN</td>\n",
       "      <td>NaN</td>\n",
       "      <td>NaN</td>\n",
       "      <td>NaN</td>\n",
       "      <td>NaN</td>\n",
       "      <td>1</td>\n",
       "    </tr>\n",
       "    <tr>\n",
       "      <th>mean</th>\n",
       "      <td>235.344681</td>\n",
       "      <td>NaN</td>\n",
       "      <td>NaN</td>\n",
       "      <td>33.561830</td>\n",
       "      <td>48.859745</td>\n",
       "      <td>186.069426</td>\n",
       "      <td>3.881255</td>\n",
       "      <td>272.372255</td>\n",
       "      <td>NaN</td>\n",
       "    </tr>\n",
       "    <tr>\n",
       "      <th>std</th>\n",
       "      <td>136.082332</td>\n",
       "      <td>NaN</td>\n",
       "      <td>NaN</td>\n",
       "      <td>333.090534</td>\n",
       "      <td>229.258606</td>\n",
       "      <td>649.794730</td>\n",
       "      <td>16.941190</td>\n",
       "      <td>792.760626</td>\n",
       "      <td>NaN</td>\n",
       "    </tr>\n",
       "    <tr>\n",
       "      <th>min</th>\n",
       "      <td>1.000000</td>\n",
       "      <td>NaN</td>\n",
       "      <td>NaN</td>\n",
       "      <td>0.000000</td>\n",
       "      <td>0.000000</td>\n",
       "      <td>0.000000</td>\n",
       "      <td>0.000000</td>\n",
       "      <td>0.040000</td>\n",
       "      <td>NaN</td>\n",
       "    </tr>\n",
       "    <tr>\n",
       "      <th>25%</th>\n",
       "      <td>118.250000</td>\n",
       "      <td>NaN</td>\n",
       "      <td>NaN</td>\n",
       "      <td>0.000000</td>\n",
       "      <td>0.000000</td>\n",
       "      <td>0.000000</td>\n",
       "      <td>0.000000</td>\n",
       "      <td>5.002500</td>\n",
       "      <td>NaN</td>\n",
       "    </tr>\n",
       "    <tr>\n",
       "      <th>50%</th>\n",
       "      <td>235.500000</td>\n",
       "      <td>NaN</td>\n",
       "      <td>NaN</td>\n",
       "      <td>0.000000</td>\n",
       "      <td>0.000000</td>\n",
       "      <td>25.465000</td>\n",
       "      <td>0.000000</td>\n",
       "      <td>53.785000</td>\n",
       "      <td>NaN</td>\n",
       "    </tr>\n",
       "    <tr>\n",
       "      <th>75%</th>\n",
       "      <td>352.750000</td>\n",
       "      <td>NaN</td>\n",
       "      <td>NaN</td>\n",
       "      <td>0.000000</td>\n",
       "      <td>0.000000</td>\n",
       "      <td>152.117500</td>\n",
       "      <td>0.997500</td>\n",
       "      <td>251.370000</td>\n",
       "      <td>NaN</td>\n",
       "    </tr>\n",
       "    <tr>\n",
       "      <th>max</th>\n",
       "      <td>470.000000</td>\n",
       "      <td>NaN</td>\n",
       "      <td>NaN</td>\n",
       "      <td>6208.440000</td>\n",
       "      <td>2984.000000</td>\n",
       "      <td>10169.330000</td>\n",
       "      <td>204.030000</td>\n",
       "      <td>10418.770000</td>\n",
       "      <td>NaN</td>\n",
       "    </tr>\n",
       "  </tbody>\n",
       "</table>\n",
       "</div>"
      ],
      "text/plain": [
       "          Child Id Parent Company ID                Date Range  \\\n",
       "count   470.000000               470                       470   \n",
       "unique         NaN               227                       219   \n",
       "top            NaN              b110  2017-12-01 -> 2017-12-30   \n",
       "freq           NaN                11                        30   \n",
       "mean    235.344681               NaN                       NaN   \n",
       "std     136.082332               NaN                       NaN   \n",
       "min       1.000000               NaN                       NaN   \n",
       "25%     118.250000               NaN                       NaN   \n",
       "50%     235.500000               NaN                       NaN   \n",
       "75%     352.750000               NaN                       NaN   \n",
       "max     470.000000               NaN                       NaN   \n",
       "\n",
       "        Rev from Product A  Rev from Product B  Rev from Product C  \\\n",
       "count           470.000000          470.000000          470.000000   \n",
       "unique                 NaN                 NaN                 NaN   \n",
       "top                    NaN                 NaN                 NaN   \n",
       "freq                   NaN                 NaN                 NaN   \n",
       "mean             33.561830           48.859745          186.069426   \n",
       "std             333.090534          229.258606          649.794730   \n",
       "min               0.000000            0.000000            0.000000   \n",
       "25%               0.000000            0.000000            0.000000   \n",
       "50%               0.000000            0.000000           25.465000   \n",
       "75%               0.000000            0.000000          152.117500   \n",
       "max            6208.440000         2984.000000        10169.330000   \n",
       "\n",
       "        Rev from Product D  Total Revenue Unique Parent Company ID  \n",
       "count           470.000000     470.000000                      228  \n",
       "unique                 NaN            NaN                      228  \n",
       "top                    NaN            NaN                     b108  \n",
       "freq                   NaN            NaN                        1  \n",
       "mean              3.881255     272.372255                      NaN  \n",
       "std              16.941190     792.760626                      NaN  \n",
       "min               0.000000       0.040000                      NaN  \n",
       "25%               0.000000       5.002500                      NaN  \n",
       "50%               0.000000      53.785000                      NaN  \n",
       "75%               0.997500     251.370000                      NaN  \n",
       "max             204.030000   10418.770000                      NaN  "
      ]
     },
     "execution_count": 17,
     "metadata": {},
     "output_type": "execute_result"
    }
   ],
   "source": [
    "data.describe(include='all')"
   ]
  },
  {
   "cell_type": "code",
   "execution_count": 18,
   "metadata": {},
   "outputs": [
    {
     "data": {
      "text/plain": [
       "Child Id                      0\n",
       "Parent Company ID             0\n",
       "Date Range                    0\n",
       "Rev from Product A            0\n",
       "Rev from Product B            0\n",
       "Rev from Product C            0\n",
       "Rev from Product D            0\n",
       "Total Revenue                 0\n",
       "Unique Parent Company ID    242\n",
       "dtype: int64"
      ]
     },
     "execution_count": 18,
     "metadata": {},
     "output_type": "execute_result"
    }
   ],
   "source": [
    "data.isnull().sum()"
   ]
  },
  {
   "cell_type": "code",
   "execution_count": 20,
   "metadata": {},
   "outputs": [
    {
     "data": {
      "text/plain": [
       "(470, 9)"
      ]
     },
     "execution_count": 20,
     "metadata": {},
     "output_type": "execute_result"
    }
   ],
   "source": [
    "data.shape"
   ]
  },
  {
   "cell_type": "code",
   "execution_count": 31,
   "metadata": {},
   "outputs": [
    {
     "data": {
      "text/plain": [
       "Index(['Child Id', 'Parent Company ID', 'Date Range', 'Rev from Product A',\n",
       "       'Rev from Product B', 'Rev from Product C', 'Rev from Product D',\n",
       "       'Total Revenue', 'Unique Parent Company ID'],\n",
       "      dtype='object')"
      ]
     },
     "execution_count": 31,
     "metadata": {},
     "output_type": "execute_result"
    }
   ],
   "source": [
    "data.columns"
   ]
  },
  {
   "cell_type": "markdown",
   "metadata": {},
   "source": [
    "#### Exploratory Data Analysis"
   ]
  },
  {
   "cell_type": "code",
   "execution_count": 30,
   "metadata": {},
   "outputs": [
    {
     "data": {
      "text/plain": [
       "array([[<matplotlib.axes._subplots.AxesSubplot object at 0x0000022098DF9B70>,\n",
       "        <matplotlib.axes._subplots.AxesSubplot object at 0x0000022098E7DD68>],\n",
       "       [<matplotlib.axes._subplots.AxesSubplot object at 0x0000022098EB11D0>,\n",
       "        <matplotlib.axes._subplots.AxesSubplot object at 0x0000022098EDC780>],\n",
       "       [<matplotlib.axes._subplots.AxesSubplot object at 0x0000022098F0BD30>,\n",
       "        <matplotlib.axes._subplots.AxesSubplot object at 0x00000220977B49B0>]],\n",
       "      dtype=object)"
      ]
     },
     "execution_count": 30,
     "metadata": {},
     "output_type": "execute_result"
    },
    {
     "data": {
      "image/png": "[encoded data removed]",
      "text/plain": [
       "<Figure size 432x288 with 6 Axes>"
      ]
     },
     "metadata": {
      "needs_background": "light"
     },
     "output_type": "display_data"
    }
   ],
   "source": [
    "data.hist()"
   ]
  },
  {
   "cell_type": "code",
   "execution_count": 35,
   "metadata": {},
   "outputs": [
    {
     "data": {
      "text/plain": [
       "<matplotlib.axes._subplots.AxesSubplot at 0x22099265080>"
      ]
     },
     "execution_count": 35,
     "metadata": {},
     "output_type": "execute_result"
    },
    {
     "data": {
      "image/png": "[encoded data removed]",
      "text/plain": [
       "<Figure size 432x288 with 1 Axes>"
      ]
     },
     "metadata": {
      "needs_background": "light"
     },
     "output_type": "display_data"
    }
   ],
   "source": [
    "sns.countplot(data['Rev from Product A'])"
   ]
  },
  {
   "cell_type": "code",
   "execution_count": 36,
   "metadata": {},
   "outputs": [
    {
     "data": {
      "text/plain": [
       "<matplotlib.axes._subplots.AxesSubplot at 0x2209928e588>"
      ]
     },
     "execution_count": 36,
     "metadata": {},
     "output_type": "execute_result"
    },
    {
     "data": {
      "image/png": "[encoded data removed]",
      "text/plain": [
       "<Figure size 432x288 with 1 Axes>"
      ]
     },
     "metadata": {
      "needs_background": "light"
     },
     "output_type": "display_data"
    }
   ],
   "source": [
    "sns.countplot(data['Rev from Product B'])"
   ]
  },
  {
   "cell_type": "code",
   "execution_count": 38,
   "metadata": {},
   "outputs": [
    {
     "data": {
      "text/plain": [
       "<matplotlib.axes._subplots.AxesSubplot at 0x220994e24a8>"
      ]
     },
     "execution_count": 38,
     "metadata": {},
     "output_type": "execute_result"
    },
    {
     "data": {
      "image/png": "[encoded data removed]",
      "text/plain": [
       "<Figure size 432x288 with 1 Axes>"
      ]
     },
     "metadata": {
      "needs_background": "light"
     },
     "output_type": "display_data"
    }
   ],
   "source": [
    "sns.countplot(data['Rev from Product C'])"
   ]
  },
  {
   "cell_type": "code",
   "execution_count": 37,
   "metadata": {},
   "outputs": [
    {
     "data": {
      "text/plain": [
       "<matplotlib.axes._subplots.AxesSubplot at 0x22099565da0>"
      ]
     },
     "execution_count": 37,
     "metadata": {},
     "output_type": "execute_result"
    },
    {
     "data": {
      "image/png": "[encoded data removed]",
      "text/plain": [
       "<Figure size 432x288 with 1 Axes>"
      ]
     },
     "metadata": {
      "needs_background": "light"
     },
     "output_type": "display_data"
    }
   ],
   "source": [
    "sns.countplot(data['Rev from Product D'])"
   ]
  },
  {
   "cell_type": "code",
   "execution_count": 40,
   "metadata": {},
   "outputs": [
    {
     "data": {
      "text/plain": [
       "<matplotlib.axes._subplots.AxesSubplot at 0x22099f9cfd0>"
      ]
     },
     "execution_count": 40,
     "metadata": {},
     "output_type": "execute_result"
    },
    {
     "data": {
      "image/png": "[encoded data removed]",
      "text/plain": [
       "<Figure size 432x288 with 1 Axes>"
      ]
     },
     "metadata": {
      "needs_background": "light"
     },
     "output_type": "display_data"
    }
   ],
   "source": [
    "sns.barplot(x=data['Parent Company ID'],y=data['Total Revenue'],data=data)"
   ]
  },
  {
   "cell_type": "code",
   "execution_count": 41,
   "metadata": {},
   "outputs": [
    {
     "ename": "NameError",
     "evalue": "name 'pandas_profiling' is not defined",
     "output_type": "error",
     "traceback": [
      "\u001b[1;31m---------------------------------------------------------------------------\u001b[0m",
      "\u001b[1;31mNameError\u001b[0m                                 Traceback (most recent call last)",
      "\u001b[1;32m<ipython-input-41-2db8ca7e5c31>\u001b[0m in \u001b[0;36m<module>\u001b[1;34m\u001b[0m\n\u001b[1;32m----> 1\u001b[1;33m \u001b[0mpandas_profiling\u001b[0m\u001b[1;33m.\u001b[0m\u001b[0mProfileReport\u001b[0m\u001b[1;33m(\u001b[0m\u001b[0mdata\u001b[0m\u001b[1;33m,\u001b[0m \u001b[1;33m**\u001b[0m\u001b[0mkwargs\u001b[0m\u001b[1;33m)\u001b[0m\u001b[1;33m\u001b[0m\u001b[1;33m\u001b[0m\u001b[0m\n\u001b[0m",
      "\u001b[1;31mNameError\u001b[0m: name 'pandas_profiling' is not defined"
     ]
    }
   ],
   "source": [
    "pandas_profiling.ProfileReport(data, **kwargs)"
   ]
  }
 ],
 "metadata": {
  "kernelspec": {
   "display_name": "Python 3",
   "language": "python",
   "name": "python3"
  },
  "language_info": {
   "codemirror_mode": {
    "name": "ipython",
    "version": 3
   },
   "file_extension": ".py",
   "mimetype": "text/x-python",
   "name": "python",
   "nbconvert_exporter": "python",
   "pygments_lexer": "ipython3",
   "version": "3.7.3"
  }
 },
 "nbformat": 4,
 "nbformat_minor": 2
}
